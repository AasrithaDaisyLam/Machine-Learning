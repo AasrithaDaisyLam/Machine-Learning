{
  "cells": [
    {
      "cell_type": "markdown",
      "id": "41858f39",
      "metadata": {
        "id": "41858f39"
      },
      "source": [
        "\n",
        "# 🚗 Cars Dataset — Linear Regression (Step-by-Step, Beginner Friendly)\n",
        "*Generated on 2025-09-12 03:29:55*\n",
        "\n",
        "This notebook teaches **Linear Regression** with a Cars dataset in **small, easy steps**.  \n",
        "Each step ends with a short **📝 TODO** so you can practice.\n",
        "\n",
        "What you'll do:\n",
        "1) Download + load the dataset (via **gdown**)  \n",
        "2) Inspect + clean data (simple)  \n",
        "3) Univariate plots (histograms)  \n",
        "4) Single-variable Linear Regression (fit + plot)  \n",
        "5) Multi-variable Linear Regression (fit + metrics)  \n",
        "6) Diagnostic plots (residuals)  \n",
        "7) Polynomial features + **GridSearchCV** to find the **best degree**  \n",
        "8) Brief coefficient interpretation\n"
      ]
    },
    {
      "cell_type": "markdown",
      "id": "fdffcadd",
      "metadata": {
        "id": "fdffcadd"
      },
      "source": [
        "## 0) Setup"
      ]
    },
    {
      "cell_type": "code",
      "execution_count": 1,
      "id": "cb8e4946",
      "metadata": {
        "id": "cb8e4946"
      },
      "outputs": [],
      "source": [
        "\n",
        "#@title Install & import (safe to re-run)\n",
        "import sys, subprocess\n",
        "\n",
        "def pip_install(pkg):\n",
        "    subprocess.run([sys.executable, \"-m\", \"pip\", \"install\", \"-q\", pkg], check=False)\n",
        "\n",
        "pip_install(\"gdown>=5.1\")\n",
        "pip_install(\"pandas>=1.5\")\n",
        "pip_install(\"numpy>=1.23\")\n",
        "pip_install(\"matplotlib>=3.7\")\n",
        "pip_install(\"scikit-learn>=1.3\")\n",
        "\n",
        "import gdown, os\n",
        "import numpy as np\n",
        "import pandas as pd\n",
        "import matplotlib.pyplot as plt\n",
        "\n",
        "from sklearn.model_selection import train_test_split, GridSearchCV\n",
        "from sklearn.linear_model import LinearRegression\n",
        "from sklearn.preprocessing import PolynomialFeatures, StandardScaler\n",
        "from sklearn.pipeline import Pipeline\n",
        "from sklearn.metrics import mean_absolute_error, mean_squared_error, r2_score\n"
      ]
    },
    {
      "cell_type": "markdown",
      "id": "307ee8a7",
      "metadata": {
        "id": "307ee8a7"
      },
      "source": [
        "## 1) Download & Load the Dataset"
      ]
    },
    {
      "cell_type": "code",
      "execution_count": 2,
      "id": "c5c3cd0e",
      "metadata": {
        "colab": {
          "base_uri": "https://localhost:8080/",
          "height": 327
        },
        "id": "c5c3cd0e",
        "outputId": "dbdead4d-89fa-4204-d5ff-2b5f1139f967"
      },
      "outputs": [
        {
          "output_type": "stream",
          "name": "stderr",
          "text": [
            "Downloading...\n",
            "From: https://drive.google.com/uc?id=1bwRmKkPwmLKiqOgQ_LnKH0Vsc3mJKmVR\n",
            "To: /content/cars.csv\n",
            "100%|██████████| 1.69M/1.69M [00:00<00:00, 170MB/s]"
          ]
        },
        {
          "output_type": "stream",
          "name": "stdout",
          "text": [
            "✅ Loaded: (19820, 18)\n"
          ]
        },
        {
          "output_type": "stream",
          "name": "stderr",
          "text": [
            "\n"
          ]
        },
        {
          "output_type": "execute_result",
          "data": {
            "text/plain": [
              "   selling_price    year  km_driven  mileage  engine  max_power   age  \\\n",
              "0           1.20  2012.0     120000    19.70   796.0      46.30  11.0   \n",
              "1           5.50  2016.0      20000    18.90  1197.0      82.00   7.0   \n",
              "2           2.15  2010.0      60000    17.00  1197.0      80.00  13.0   \n",
              "3           2.26  2012.0      37000    20.92   998.0      67.10  11.0   \n",
              "4           5.70  2015.0      30000    22.77  1498.0      98.59   8.0   \n",
              "\n",
              "      make                                      model  Individual  \\\n",
              "0   MARUTI                                   ALTO STD           1   \n",
              "1  HYUNDAI                             GRAND I10 ASTA           1   \n",
              "2  HYUNDAI                                   I20 ASTA           1   \n",
              "3   MARUTI                     ALTO K10 2010-2014 VXI           1   \n",
              "4     FORD  ECOSPORT 2015-2021 1.5 TDCI TITANIUM BSIV           0   \n",
              "\n",
              "   Trustmark Dealer  Diesel  Electric  LPG  Petrol  Manual  5  >5  \n",
              "0                 0       0         0    0       1       1  1   0  \n",
              "1                 0       0         0    0       1       1  1   0  \n",
              "2                 0       0         0    0       1       1  1   0  \n",
              "3                 0       0         0    0       1       1  1   0  \n",
              "4                 0       1         0    0       0       1  1   0  "
            ],
            "text/html": [
              "\n",
              "  <div id=\"df-10685e9c-feb3-4b25-912b-bccd299fbb96\" class=\"colab-df-container\">\n",
              "    <div>\n",
              "<style scoped>\n",
              "    .dataframe tbody tr th:only-of-type {\n",
              "        vertical-align: middle;\n",
              "    }\n",
              "\n",
              "    .dataframe tbody tr th {\n",
              "        vertical-align: top;\n",
              "    }\n",
              "\n",
              "    .dataframe thead th {\n",
              "        text-align: right;\n",
              "    }\n",
              "</style>\n",
              "<table border=\"1\" class=\"dataframe\">\n",
              "  <thead>\n",
              "    <tr style=\"text-align: right;\">\n",
              "      <th></th>\n",
              "      <th>selling_price</th>\n",
              "      <th>year</th>\n",
              "      <th>km_driven</th>\n",
              "      <th>mileage</th>\n",
              "      <th>engine</th>\n",
              "      <th>max_power</th>\n",
              "      <th>age</th>\n",
              "      <th>make</th>\n",
              "      <th>model</th>\n",
              "      <th>Individual</th>\n",
              "      <th>Trustmark Dealer</th>\n",
              "      <th>Diesel</th>\n",
              "      <th>Electric</th>\n",
              "      <th>LPG</th>\n",
              "      <th>Petrol</th>\n",
              "      <th>Manual</th>\n",
              "      <th>5</th>\n",
              "      <th>&gt;5</th>\n",
              "    </tr>\n",
              "  </thead>\n",
              "  <tbody>\n",
              "    <tr>\n",
              "      <th>0</th>\n",
              "      <td>1.20</td>\n",
              "      <td>2012.0</td>\n",
              "      <td>120000</td>\n",
              "      <td>19.70</td>\n",
              "      <td>796.0</td>\n",
              "      <td>46.30</td>\n",
              "      <td>11.0</td>\n",
              "      <td>MARUTI</td>\n",
              "      <td>ALTO STD</td>\n",
              "      <td>1</td>\n",
              "      <td>0</td>\n",
              "      <td>0</td>\n",
              "      <td>0</td>\n",
              "      <td>0</td>\n",
              "      <td>1</td>\n",
              "      <td>1</td>\n",
              "      <td>1</td>\n",
              "      <td>0</td>\n",
              "    </tr>\n",
              "    <tr>\n",
              "      <th>1</th>\n",
              "      <td>5.50</td>\n",
              "      <td>2016.0</td>\n",
              "      <td>20000</td>\n",
              "      <td>18.90</td>\n",
              "      <td>1197.0</td>\n",
              "      <td>82.00</td>\n",
              "      <td>7.0</td>\n",
              "      <td>HYUNDAI</td>\n",
              "      <td>GRAND I10 ASTA</td>\n",
              "      <td>1</td>\n",
              "      <td>0</td>\n",
              "      <td>0</td>\n",
              "      <td>0</td>\n",
              "      <td>0</td>\n",
              "      <td>1</td>\n",
              "      <td>1</td>\n",
              "      <td>1</td>\n",
              "      <td>0</td>\n",
              "    </tr>\n",
              "    <tr>\n",
              "      <th>2</th>\n",
              "      <td>2.15</td>\n",
              "      <td>2010.0</td>\n",
              "      <td>60000</td>\n",
              "      <td>17.00</td>\n",
              "      <td>1197.0</td>\n",
              "      <td>80.00</td>\n",
              "      <td>13.0</td>\n",
              "      <td>HYUNDAI</td>\n",
              "      <td>I20 ASTA</td>\n",
              "      <td>1</td>\n",
              "      <td>0</td>\n",
              "      <td>0</td>\n",
              "      <td>0</td>\n",
              "      <td>0</td>\n",
              "      <td>1</td>\n",
              "      <td>1</td>\n",
              "      <td>1</td>\n",
              "      <td>0</td>\n",
              "    </tr>\n",
              "    <tr>\n",
              "      <th>3</th>\n",
              "      <td>2.26</td>\n",
              "      <td>2012.0</td>\n",
              "      <td>37000</td>\n",
              "      <td>20.92</td>\n",
              "      <td>998.0</td>\n",
              "      <td>67.10</td>\n",
              "      <td>11.0</td>\n",
              "      <td>MARUTI</td>\n",
              "      <td>ALTO K10 2010-2014 VXI</td>\n",
              "      <td>1</td>\n",
              "      <td>0</td>\n",
              "      <td>0</td>\n",
              "      <td>0</td>\n",
              "      <td>0</td>\n",
              "      <td>1</td>\n",
              "      <td>1</td>\n",
              "      <td>1</td>\n",
              "      <td>0</td>\n",
              "    </tr>\n",
              "    <tr>\n",
              "      <th>4</th>\n",
              "      <td>5.70</td>\n",
              "      <td>2015.0</td>\n",
              "      <td>30000</td>\n",
              "      <td>22.77</td>\n",
              "      <td>1498.0</td>\n",
              "      <td>98.59</td>\n",
              "      <td>8.0</td>\n",
              "      <td>FORD</td>\n",
              "      <td>ECOSPORT 2015-2021 1.5 TDCI TITANIUM BSIV</td>\n",
              "      <td>0</td>\n",
              "      <td>0</td>\n",
              "      <td>1</td>\n",
              "      <td>0</td>\n",
              "      <td>0</td>\n",
              "      <td>0</td>\n",
              "      <td>1</td>\n",
              "      <td>1</td>\n",
              "      <td>0</td>\n",
              "    </tr>\n",
              "  </tbody>\n",
              "</table>\n",
              "</div>\n",
              "    <div class=\"colab-df-buttons\">\n",
              "\n",
              "  <div class=\"colab-df-container\">\n",
              "    <button class=\"colab-df-convert\" onclick=\"convertToInteractive('df-10685e9c-feb3-4b25-912b-bccd299fbb96')\"\n",
              "            title=\"Convert this dataframe to an interactive table.\"\n",
              "            style=\"display:none;\">\n",
              "\n",
              "  <svg xmlns=\"http://www.w3.org/2000/svg\" height=\"24px\" viewBox=\"0 -960 960 960\">\n",
              "    <path d=\"M120-120v-720h720v720H120Zm60-500h600v-160H180v160Zm220 220h160v-160H400v160Zm0 220h160v-160H400v160ZM180-400h160v-160H180v160Zm440 0h160v-160H620v160ZM180-180h160v-160H180v160Zm440 0h160v-160H620v160Z\"/>\n",
              "  </svg>\n",
              "    </button>\n",
              "\n",
              "  <style>\n",
              "    .colab-df-container {\n",
              "      display:flex;\n",
              "      gap: 12px;\n",
              "    }\n",
              "\n",
              "    .colab-df-convert {\n",
              "      background-color: #E8F0FE;\n",
              "      border: none;\n",
              "      border-radius: 50%;\n",
              "      cursor: pointer;\n",
              "      display: none;\n",
              "      fill: #1967D2;\n",
              "      height: 32px;\n",
              "      padding: 0 0 0 0;\n",
              "      width: 32px;\n",
              "    }\n",
              "\n",
              "    .colab-df-convert:hover {\n",
              "      background-color: #E2EBFA;\n",
              "      box-shadow: 0px 1px 2px rgba(60, 64, 67, 0.3), 0px 1px 3px 1px rgba(60, 64, 67, 0.15);\n",
              "      fill: #174EA6;\n",
              "    }\n",
              "\n",
              "    .colab-df-buttons div {\n",
              "      margin-bottom: 4px;\n",
              "    }\n",
              "\n",
              "    [theme=dark] .colab-df-convert {\n",
              "      background-color: #3B4455;\n",
              "      fill: #D2E3FC;\n",
              "    }\n",
              "\n",
              "    [theme=dark] .colab-df-convert:hover {\n",
              "      background-color: #434B5C;\n",
              "      box-shadow: 0px 1px 3px 1px rgba(0, 0, 0, 0.15);\n",
              "      filter: drop-shadow(0px 1px 2px rgba(0, 0, 0, 0.3));\n",
              "      fill: #FFFFFF;\n",
              "    }\n",
              "  </style>\n",
              "\n",
              "    <script>\n",
              "      const buttonEl =\n",
              "        document.querySelector('#df-10685e9c-feb3-4b25-912b-bccd299fbb96 button.colab-df-convert');\n",
              "      buttonEl.style.display =\n",
              "        google.colab.kernel.accessAllowed ? 'block' : 'none';\n",
              "\n",
              "      async function convertToInteractive(key) {\n",
              "        const element = document.querySelector('#df-10685e9c-feb3-4b25-912b-bccd299fbb96');\n",
              "        const dataTable =\n",
              "          await google.colab.kernel.invokeFunction('convertToInteractive',\n",
              "                                                    [key], {});\n",
              "        if (!dataTable) return;\n",
              "\n",
              "        const docLinkHtml = 'Like what you see? Visit the ' +\n",
              "          '<a target=\"_blank\" href=https://colab.research.google.com/notebooks/data_table.ipynb>data table notebook</a>'\n",
              "          + ' to learn more about interactive tables.';\n",
              "        element.innerHTML = '';\n",
              "        dataTable['output_type'] = 'display_data';\n",
              "        await google.colab.output.renderOutput(dataTable, element);\n",
              "        const docLink = document.createElement('div');\n",
              "        docLink.innerHTML = docLinkHtml;\n",
              "        element.appendChild(docLink);\n",
              "      }\n",
              "    </script>\n",
              "  </div>\n",
              "\n",
              "\n",
              "    <div id=\"df-f0e2439e-90ea-44ed-b6a2-c9e729d41c64\">\n",
              "      <button class=\"colab-df-quickchart\" onclick=\"quickchart('df-f0e2439e-90ea-44ed-b6a2-c9e729d41c64')\"\n",
              "                title=\"Suggest charts\"\n",
              "                style=\"display:none;\">\n",
              "\n",
              "<svg xmlns=\"http://www.w3.org/2000/svg\" height=\"24px\"viewBox=\"0 0 24 24\"\n",
              "     width=\"24px\">\n",
              "    <g>\n",
              "        <path d=\"M19 3H5c-1.1 0-2 .9-2 2v14c0 1.1.9 2 2 2h14c1.1 0 2-.9 2-2V5c0-1.1-.9-2-2-2zM9 17H7v-7h2v7zm4 0h-2V7h2v10zm4 0h-2v-4h2v4z\"/>\n",
              "    </g>\n",
              "</svg>\n",
              "      </button>\n",
              "\n",
              "<style>\n",
              "  .colab-df-quickchart {\n",
              "      --bg-color: #E8F0FE;\n",
              "      --fill-color: #1967D2;\n",
              "      --hover-bg-color: #E2EBFA;\n",
              "      --hover-fill-color: #174EA6;\n",
              "      --disabled-fill-color: #AAA;\n",
              "      --disabled-bg-color: #DDD;\n",
              "  }\n",
              "\n",
              "  [theme=dark] .colab-df-quickchart {\n",
              "      --bg-color: #3B4455;\n",
              "      --fill-color: #D2E3FC;\n",
              "      --hover-bg-color: #434B5C;\n",
              "      --hover-fill-color: #FFFFFF;\n",
              "      --disabled-bg-color: #3B4455;\n",
              "      --disabled-fill-color: #666;\n",
              "  }\n",
              "\n",
              "  .colab-df-quickchart {\n",
              "    background-color: var(--bg-color);\n",
              "    border: none;\n",
              "    border-radius: 50%;\n",
              "    cursor: pointer;\n",
              "    display: none;\n",
              "    fill: var(--fill-color);\n",
              "    height: 32px;\n",
              "    padding: 0;\n",
              "    width: 32px;\n",
              "  }\n",
              "\n",
              "  .colab-df-quickchart:hover {\n",
              "    background-color: var(--hover-bg-color);\n",
              "    box-shadow: 0 1px 2px rgba(60, 64, 67, 0.3), 0 1px 3px 1px rgba(60, 64, 67, 0.15);\n",
              "    fill: var(--button-hover-fill-color);\n",
              "  }\n",
              "\n",
              "  .colab-df-quickchart-complete:disabled,\n",
              "  .colab-df-quickchart-complete:disabled:hover {\n",
              "    background-color: var(--disabled-bg-color);\n",
              "    fill: var(--disabled-fill-color);\n",
              "    box-shadow: none;\n",
              "  }\n",
              "\n",
              "  .colab-df-spinner {\n",
              "    border: 2px solid var(--fill-color);\n",
              "    border-color: transparent;\n",
              "    border-bottom-color: var(--fill-color);\n",
              "    animation:\n",
              "      spin 1s steps(1) infinite;\n",
              "  }\n",
              "\n",
              "  @keyframes spin {\n",
              "    0% {\n",
              "      border-color: transparent;\n",
              "      border-bottom-color: var(--fill-color);\n",
              "      border-left-color: var(--fill-color);\n",
              "    }\n",
              "    20% {\n",
              "      border-color: transparent;\n",
              "      border-left-color: var(--fill-color);\n",
              "      border-top-color: var(--fill-color);\n",
              "    }\n",
              "    30% {\n",
              "      border-color: transparent;\n",
              "      border-left-color: var(--fill-color);\n",
              "      border-top-color: var(--fill-color);\n",
              "      border-right-color: var(--fill-color);\n",
              "    }\n",
              "    40% {\n",
              "      border-color: transparent;\n",
              "      border-right-color: var(--fill-color);\n",
              "      border-top-color: var(--fill-color);\n",
              "    }\n",
              "    60% {\n",
              "      border-color: transparent;\n",
              "      border-right-color: var(--fill-color);\n",
              "    }\n",
              "    80% {\n",
              "      border-color: transparent;\n",
              "      border-right-color: var(--fill-color);\n",
              "      border-bottom-color: var(--fill-color);\n",
              "    }\n",
              "    90% {\n",
              "      border-color: transparent;\n",
              "      border-bottom-color: var(--fill-color);\n",
              "    }\n",
              "  }\n",
              "</style>\n",
              "\n",
              "      <script>\n",
              "        async function quickchart(key) {\n",
              "          const quickchartButtonEl =\n",
              "            document.querySelector('#' + key + ' button');\n",
              "          quickchartButtonEl.disabled = true;  // To prevent multiple clicks.\n",
              "          quickchartButtonEl.classList.add('colab-df-spinner');\n",
              "          try {\n",
              "            const charts = await google.colab.kernel.invokeFunction(\n",
              "                'suggestCharts', [key], {});\n",
              "          } catch (error) {\n",
              "            console.error('Error during call to suggestCharts:', error);\n",
              "          }\n",
              "          quickchartButtonEl.classList.remove('colab-df-spinner');\n",
              "          quickchartButtonEl.classList.add('colab-df-quickchart-complete');\n",
              "        }\n",
              "        (() => {\n",
              "          let quickchartButtonEl =\n",
              "            document.querySelector('#df-f0e2439e-90ea-44ed-b6a2-c9e729d41c64 button');\n",
              "          quickchartButtonEl.style.display =\n",
              "            google.colab.kernel.accessAllowed ? 'block' : 'none';\n",
              "        })();\n",
              "      </script>\n",
              "    </div>\n",
              "\n",
              "    </div>\n",
              "  </div>\n"
            ],
            "application/vnd.google.colaboratory.intrinsic+json": {
              "type": "dataframe",
              "variable_name": "df",
              "summary": "{\n  \"name\": \"df\",\n  \"rows\": 19820,\n  \"fields\": [\n    {\n      \"column\": \"selling_price\",\n      \"properties\": {\n        \"dtype\": \"number\",\n        \"std\": 4.847364489233198,\n        \"min\": 0.3,\n        \"max\": 20.90249999999996,\n        \"num_unique_values\": 964,\n        \"samples\": [\n          1.27,\n          20.75,\n          9.72\n        ],\n        \"semantic_type\": \"\",\n        \"description\": \"\"\n      }\n    },\n    {\n      \"column\": \"year\",\n      \"properties\": {\n        \"dtype\": \"number\",\n        \"std\": 3.1966364815165047,\n        \"min\": 1992.0,\n        \"max\": 2021.0,\n        \"num_unique_values\": 27,\n        \"samples\": [\n          2014.0,\n          2020.0,\n          2011.0\n        ],\n        \"semantic_type\": \"\",\n        \"description\": \"\"\n      }\n    },\n    {\n      \"column\": \"km_driven\",\n      \"properties\": {\n        \"dtype\": \"number\",\n        \"std\": 51715,\n        \"min\": 100,\n        \"max\": 3800000,\n        \"num_unique_values\": 4476,\n        \"samples\": [\n          136700,\n          79200,\n          89755\n        ],\n        \"semantic_type\": \"\",\n        \"description\": \"\"\n      }\n    },\n    {\n      \"column\": \"mileage\",\n      \"properties\": {\n        \"dtype\": \"number\",\n        \"std\": 4.297783699130578,\n        \"min\": 4.0,\n        \"max\": 120.0,\n        \"num_unique_values\": 532,\n        \"samples\": [\n          20.51,\n          8.9,\n          18.7\n        ],\n        \"semantic_type\": \"\",\n        \"description\": \"\"\n      }\n    },\n    {\n      \"column\": \"engine\",\n      \"properties\": {\n        \"dtype\": \"number\",\n        \"std\": 518.5712227088476,\n        \"min\": 0.0,\n        \"max\": 6752.0,\n        \"num_unique_values\": 167,\n        \"samples\": [\n          1242.0,\n          2359.0,\n          17.0\n        ],\n        \"semantic_type\": \"\",\n        \"description\": \"\"\n      }\n    },\n    {\n      \"column\": \"max_power\",\n      \"properties\": {\n        \"dtype\": \"number\",\n        \"std\": 44.761726745253995,\n        \"min\": 5.0,\n        \"max\": 626.0,\n        \"num_unique_values\": 484,\n        \"samples\": [\n          84.82,\n          575.0,\n          103.5\n        ],\n        \"semantic_type\": \"\",\n        \"description\": \"\"\n      }\n    },\n    {\n      \"column\": \"age\",\n      \"properties\": {\n        \"dtype\": \"number\",\n        \"std\": 3.1966364815165047,\n        \"min\": 2.0,\n        \"max\": 31.0,\n        \"num_unique_values\": 27,\n        \"samples\": [\n          9.0,\n          3.0,\n          12.0\n        ],\n        \"semantic_type\": \"\",\n        \"description\": \"\"\n      }\n    },\n    {\n      \"column\": \"make\",\n      \"properties\": {\n        \"dtype\": \"category\",\n        \"num_unique_values\": 41,\n        \"samples\": [\n          \"BENTLEY\",\n          \"CHEVROLET\",\n          \"MERCEDES-BENZ\"\n        ],\n        \"semantic_type\": \"\",\n        \"description\": \"\"\n      }\n    },\n    {\n      \"column\": \"model\",\n      \"properties\": {\n        \"dtype\": \"category\",\n        \"num_unique_values\": 3233,\n        \"samples\": [\n          \"ROVER FREELANDER 2 SE\",\n          \"CR-V 2.0 AT\",\n          \"Q3 30 TDI PREMIUM FWD\"\n        ],\n        \"semantic_type\": \"\",\n        \"description\": \"\"\n      }\n    },\n    {\n      \"column\": \"Individual\",\n      \"properties\": {\n        \"dtype\": \"number\",\n        \"std\": 0,\n        \"min\": 0,\n        \"max\": 1,\n        \"num_unique_values\": 2,\n        \"samples\": [\n          0,\n          1\n        ],\n        \"semantic_type\": \"\",\n        \"description\": \"\"\n      }\n    },\n    {\n      \"column\": \"Trustmark Dealer\",\n      \"properties\": {\n        \"dtype\": \"number\",\n        \"std\": 0,\n        \"min\": 0,\n        \"max\": 1,\n        \"num_unique_values\": 2,\n        \"samples\": [\n          1,\n          0\n        ],\n        \"semantic_type\": \"\",\n        \"description\": \"\"\n      }\n    },\n    {\n      \"column\": \"Diesel\",\n      \"properties\": {\n        \"dtype\": \"number\",\n        \"std\": 0,\n        \"min\": 0,\n        \"max\": 1,\n        \"num_unique_values\": 2,\n        \"samples\": [\n          1,\n          0\n        ],\n        \"semantic_type\": \"\",\n        \"description\": \"\"\n      }\n    },\n    {\n      \"column\": \"Electric\",\n      \"properties\": {\n        \"dtype\": \"number\",\n        \"std\": 0,\n        \"min\": 0,\n        \"max\": 1,\n        \"num_unique_values\": 2,\n        \"samples\": [\n          1,\n          0\n        ],\n        \"semantic_type\": \"\",\n        \"description\": \"\"\n      }\n    },\n    {\n      \"column\": \"LPG\",\n      \"properties\": {\n        \"dtype\": \"number\",\n        \"std\": 0,\n        \"min\": 0,\n        \"max\": 1,\n        \"num_unique_values\": 2,\n        \"samples\": [\n          1,\n          0\n        ],\n        \"semantic_type\": \"\",\n        \"description\": \"\"\n      }\n    },\n    {\n      \"column\": \"Petrol\",\n      \"properties\": {\n        \"dtype\": \"number\",\n        \"std\": 0,\n        \"min\": 0,\n        \"max\": 1,\n        \"num_unique_values\": 2,\n        \"samples\": [\n          0,\n          1\n        ],\n        \"semantic_type\": \"\",\n        \"description\": \"\"\n      }\n    },\n    {\n      \"column\": \"Manual\",\n      \"properties\": {\n        \"dtype\": \"number\",\n        \"std\": 0,\n        \"min\": 0,\n        \"max\": 1,\n        \"num_unique_values\": 2,\n        \"samples\": [\n          0,\n          1\n        ],\n        \"semantic_type\": \"\",\n        \"description\": \"\"\n      }\n    },\n    {\n      \"column\": \"5\",\n      \"properties\": {\n        \"dtype\": \"number\",\n        \"std\": 0,\n        \"min\": 0,\n        \"max\": 1,\n        \"num_unique_values\": 2,\n        \"samples\": [\n          0,\n          1\n        ],\n        \"semantic_type\": \"\",\n        \"description\": \"\"\n      }\n    },\n    {\n      \"column\": \">5\",\n      \"properties\": {\n        \"dtype\": \"number\",\n        \"std\": 0,\n        \"min\": 0,\n        \"max\": 1,\n        \"num_unique_values\": 2,\n        \"samples\": [\n          1,\n          0\n        ],\n        \"semantic_type\": \"\",\n        \"description\": \"\"\n      }\n    }\n  ]\n}"
            }
          },
          "metadata": {},
          "execution_count": 2
        }
      ],
      "source": [
        "\n",
        "#@title Download CSV via gdown\n",
        "GDOWN_ID = \"1bwRmKkPwmLKiqOgQ_LnKH0Vsc3mJKmVR\"  # provided ID\n",
        "OUTPUT_CSV = \"cars.csv\"\n",
        "\n",
        "if not os.path.exists(OUTPUT_CSV):\n",
        "    url = f\"https://drive.google.com/uc?id={GDOWN_ID}\"\n",
        "    gdown.download(url, OUTPUT_CSV, quiet=False)\n",
        "else:\n",
        "    print(\"Found existing file:\", OUTPUT_CSV)\n",
        "\n",
        "df = pd.read_csv(OUTPUT_CSV)\n",
        "print(\"✅ Loaded:\", df.shape)\n",
        "df.head()\n"
      ]
    },
    {
      "cell_type": "markdown",
      "id": "48462d17",
      "metadata": {
        "id": "48462d17"
      },
      "source": [
        "\n",
        "### 📝 TODO\n",
        "- Skim the first few rows above. What looks like a good **target** (y) for prediction (e.g., `mpg`, `price`)?\n",
        "\n",
        "Price is a good taarget as its a coninuous value, which is what linear regression is used for. Mileage, max_power, engine also can be predicted\n",
        "\n",
        "\n",
        "\n"
      ]
    },
    {
      "cell_type": "markdown",
      "id": "505d4e37",
      "metadata": {
        "id": "505d4e37"
      },
      "source": [
        "## 2) Quick Inspect & Simple Cleaning"
      ]
    },
    {
      "cell_type": "code",
      "execution_count": 3,
      "id": "71e0e3f9",
      "metadata": {
        "colab": {
          "base_uri": "https://localhost:8080/"
        },
        "id": "71e0e3f9",
        "outputId": "414cda99-ec7d-42b9-b036-57457951936e"
      },
      "outputs": [
        {
          "output_type": "stream",
          "name": "stdout",
          "text": [
            "Columns: ['selling_price', 'year', 'km_driven', 'mileage', 'engine', 'max_power', 'age', 'make', 'model', 'Individual', 'Trustmark Dealer', 'Diesel', 'Electric', 'LPG', 'Petrol', 'Manual', '5', '>5']\n",
            "\n",
            "Data types:\n",
            " selling_price       float64\n",
            "year                float64\n",
            "km_driven             int64\n",
            "mileage             float64\n",
            "engine              float64\n",
            "max_power           float64\n",
            "age                 float64\n",
            "make                 object\n",
            "model                object\n",
            "Individual            int64\n",
            "Trustmark Dealer      int64\n",
            "Diesel                int64\n",
            "Electric              int64\n",
            "LPG                   int64\n",
            "Petrol                int64\n",
            "Manual                int64\n",
            "5                     int64\n",
            ">5                    int64\n",
            "dtype: object\n",
            "\n",
            "Missing values per column:\n",
            " selling_price       0\n",
            "year                0\n",
            "km_driven           0\n",
            "mileage             0\n",
            "engine              0\n",
            "max_power           0\n",
            "age                 0\n",
            "make                0\n",
            "model               0\n",
            "Individual          0\n",
            "Trustmark Dealer    0\n",
            "Diesel              0\n",
            "Electric            0\n",
            "LPG                 0\n",
            "Petrol              0\n",
            "Manual              0\n",
            "5                   0\n",
            ">5                  0\n",
            "dtype: int64\n",
            "\n",
            "Dropped duplicates: 159\n"
          ]
        }
      ],
      "source": [
        "\n",
        "print(\"Columns:\", list(df.columns))\n",
        "print(\"\\nData types:\\n\", df.dtypes)\n",
        "print(\"\\nMissing values per column:\\n\", df.isna().sum())\n",
        "\n",
        "# Simple cleaning: drop duplicates\n",
        "before = df.shape[0]\n",
        "df = df.drop_duplicates().reset_index(drop=True)\n",
        "print(\"\\nDropped duplicates:\", before - df.shape[0])\n",
        "\n",
        "# (Optional) strip/underscore column names\n",
        "df.columns = [c.strip().replace(\" \", \"_\") for c in df.columns]\n"
      ]
    },
    {
      "cell_type": "markdown",
      "id": "a18ecb52",
      "metadata": {
        "id": "a18ecb52"
      },
      "source": [
        "\n",
        "### 📝 TODO\n",
        "- If you see obvious bad rows (e.g., impossible negative values), write one **extra line** to filter them out.\n"
      ]
    },
    {
      "cell_type": "markdown",
      "id": "4f93a674",
      "metadata": {
        "id": "4f93a674"
      },
      "source": [
        "## 3) Choose Target and Features (Keep it Simple)"
      ]
    },
    {
      "cell_type": "code",
      "execution_count": 5,
      "id": "80003962",
      "metadata": {
        "colab": {
          "base_uri": "https://localhost:8080/"
        },
        "id": "80003962",
        "outputId": "f891d8e2-71f9-4ee1-9418-6bfaa7c45786"
      },
      "outputs": [
        {
          "output_type": "stream",
          "name": "stdout",
          "text": [
            "Target: selling_price\n",
            "Numeric features (first 6 shown): ['year', 'km_driven', 'mileage', 'engine', 'max_power', 'age']\n"
          ]
        }
      ],
      "source": [
        "\n",
        "# 👉 Set your target (change this if needed)\n",
        "TARGET = \"selling_price\"  # <-- change if your dataset uses a different target\n",
        "\n",
        "# If the target isn't present, try to auto-pick a numeric column\n",
        "if TARGET not in df.columns:\n",
        "    numeric_cols_all = df.select_dtypes(include=np.number).columns.tolist()\n",
        "    if numeric_cols_all:\n",
        "        TARGET = numeric_cols_all[0]\n",
        "        print(\"Auto-selected TARGET =\", TARGET)\n",
        "\n",
        "# We'll work **only with numeric predictors** for simplicity.\n",
        "numeric_cols = [c for c in df.select_dtypes(include=np.number).columns if c != TARGET]\n",
        "\n",
        "# Quick sanity\n",
        "print(\"Target:\", TARGET)\n",
        "print(\"Numeric features (first 6 shown):\", numeric_cols[:6])\n"
      ]
    },
    {
      "cell_type": "markdown",
      "id": "21dfa346",
      "metadata": {
        "id": "21dfa346"
      },
      "source": [
        "\n",
        "### 📝 TODO\n",
        "- If you prefer different features, create a **manual list**, e.g.  \n",
        "  `numeric_cols = ['horsepower','weight','displacement','acceleration']` (only if those exist).\n",
        "\n",
        "Removing the \"year\" column and keeping only age"
      ]
    },
    {
      "cell_type": "code",
      "source": [
        "numeric_cols = ['age', 'km_driven', 'mileage', 'engine', 'max_power']"
      ],
      "metadata": {
        "id": "E9gizdcBWVYo"
      },
      "id": "E9gizdcBWVYo",
      "execution_count": 6,
      "outputs": []
    },
    {
      "cell_type": "markdown",
      "id": "655c216e",
      "metadata": {
        "id": "655c216e"
      },
      "source": [
        "## 4) Univariate Plots (Matplotlib)"
      ]
    },
    {
      "cell_type": "code",
      "execution_count": 12,
      "id": "aa0248ad",
      "metadata": {
        "colab": {
          "base_uri": "https://localhost:8080/",
          "height": 1000
        },
        "id": "aa0248ad",
        "outputId": "c28c5a3b-a349-4f95-c7c5-b8b834ae13a7"
      },
      "outputs": [
        {
          "output_type": "display_data",
          "data": {
            "text/plain": [
              "<Figure size 640x480 with 1 Axes>"
            ],
            "image/png": "[encoded data removed]"
          },
          "metadata": {}
        },
        {
          "output_type": "display_data",
          "data": {
            "text/plain": [
              "<Figure size 640x480 with 1 Axes>"
            ],
            "image/png": "[encoded data removed]"
          },
          "metadata": {}
        },
        {
          "output_type": "display_data",
          "data": {
            "text/plain": [
              "<Figure size 640x480 with 1 Axes>"
            ],
            "image/png": "[encoded data removed]"
          },
          "metadata": {}
        },
        {
          "output_type": "display_data",
          "data": {
            "text/plain": [
              "<Figure size 640x480 with 1 Axes>"
            ],
            "image/png": "[encoded data removed]"
          },
          "metadata": {}
        }
      ],
      "source": [
        "\n",
        "# Plot target histogram\n",
        "if TARGET in df.columns and pd.api.types.is_numeric_dtype(df[TARGET]):\n",
        "    plt.figure()\n",
        "    df[TARGET].plot(kind='hist', bins=30, title=f\"Histogram of {TARGET}\")\n",
        "    plt.xlabel(TARGET); plt.ylabel(\"Frequency\")\n",
        "    plt.show()\n",
        "\n",
        "# Plot up to 3 numeric features' histograms\n",
        "for col in numeric_cols[:3]:\n",
        "    plt.figure()\n",
        "    df[col].plot(kind='hist', bins=30, title=f\"Histogram of {col}\")\n",
        "    plt.xlabel(col); plt.ylabel(\"Frequency\")\n",
        "    plt.show()\n"
      ]
    },
    {
      "cell_type": "markdown",
      "id": "32de8ec9",
      "metadata": {
        "id": "32de8ec9"
      },
      "source": [
        "\n",
        "### 📝 TODO\n",
        "- Looking at the histograms, note any skewed variables or outliers.\n",
        "\n",
        "Price and Age are right skewked with price having outliers\n",
        "\n",
        "Mileage is mostly symmetrical and there appears no outliers\n",
        "\n",
        "Km_driven is heavily right skewed and there are outliers"
      ]
    },
    {
      "cell_type": "markdown",
      "id": "4615337b",
      "metadata": {
        "id": "4615337b"
      },
      "source": [
        "## 5) Single-Variable Linear Regression"
      ]
    },
    {
      "cell_type": "code",
      "execution_count": 13,
      "id": "377a2d1b",
      "metadata": {
        "colab": {
          "base_uri": "https://localhost:8080/",
          "height": 541
        },
        "id": "377a2d1b",
        "outputId": "4bf88e05-36da-4f10-ac39-acfda035bd72"
      },
      "outputs": [
        {
          "output_type": "stream",
          "name": "stdout",
          "text": [
            "Feature: age\n",
            "Coefficient (slope): -0.5884126624392728\n",
            "Intercept: 11.54834715205151\n",
            "R^2 (test): 0.1589294752769993\n"
          ]
        },
        {
          "output_type": "display_data",
          "data": {
            "text/plain": [
              "<Figure size 640x480 with 1 Axes>"
            ],
            "image/png": "[encoded data removed]"
          },
          "metadata": {}
        }
      ],
      "source": [
        "\n",
        "# Pick one feature (auto-pick the first numeric feature)\n",
        "if len(numeric_cols) == 0:\n",
        "    raise ValueError(\"No numeric predictors found. Please adjust `numeric_cols`.\")\n",
        "\n",
        "FEATURE_X = numeric_cols[0]  # change to try others\n",
        "\n",
        "# Drop rows with missing target/feature\n",
        "data_1v = df[[FEATURE_X, TARGET]].dropna().copy()\n",
        "\n",
        "X = data_1v[[FEATURE_X]].values\n",
        "y = data_1v[TARGET].values\n",
        "\n",
        "# Train-test split\n",
        "X_train, X_test, y_train, y_test = train_test_split(X, y, test_size=0.2, random_state=42)\n",
        "\n",
        "# Fit linear regression\n",
        "lr = LinearRegression()\n",
        "lr.fit(X_train, y_train)\n",
        "\n",
        "# Predictions on test set\n",
        "y_pred = lr.predict(X_test)\n",
        "\n",
        "print(\"Feature:\", FEATURE_X)\n",
        "print(\"Coefficient (slope):\", lr.coef_[0])\n",
        "print(\"Intercept:\", lr.intercept_)\n",
        "print(\"R^2 (test):\", r2_score(y_test, y_pred))\n",
        "\n",
        "# Plot scatter + regression line (on test set)\n",
        "plt.figure()\n",
        "plt.scatter(X_test, y_test, label=\"Actual\")\n",
        "# create a line\n",
        "x_line = np.linspace(X.min(), X.max(), 200).reshape(-1,1)\n",
        "y_line = lr.predict(x_line)\n",
        "plt.plot(x_line, y_line, label=\"Fit\")\n",
        "plt.xlabel(FEATURE_X); plt.ylabel(TARGET); plt.title(\"Single-Variable Linear Regression\")\n",
        "plt.legend()\n",
        "plt.show()\n"
      ]
    },
    {
      "cell_type": "markdown",
      "id": "7c813aaf",
      "metadata": {
        "id": "7c813aaf"
      },
      "source": [
        "\n",
        "### 📝 TODO\n",
        "- Change `FEATURE_X` to a different column and re-run.\n",
        "- Does the line slope match your intuition about the relationship?\n"
      ]
    },
    {
      "cell_type": "markdown",
      "id": "dd8880fb",
      "metadata": {
        "id": "dd8880fb"
      },
      "source": [
        "## 6) Multi-Variable Linear Regression (Simple)"
      ]
    },
    {
      "cell_type": "code",
      "execution_count": null,
      "id": "fc4b5f2c",
      "metadata": {
        "id": "fc4b5f2c"
      },
      "outputs": [],
      "source": [
        "\n",
        "# Keep only numeric predictors + target; drop NA\n",
        "data_mv = df[numeric_cols + [TARGET]].dropna().copy()\n",
        "\n",
        "X = data_mv[numeric_cols].values\n",
        "y = data_mv[TARGET].values\n",
        "\n",
        "X_train, X_test, y_train, y_test = train_test_split(X, y, test_size=0.2, random_state=42)\n",
        "\n",
        "lin = LinearRegression()\n",
        "lin.fit(X_train, y_train)\n",
        "\n",
        "y_pred = lin.predict(X_test)\n",
        "\n",
        "mae = mean_absolute_error(y_test, y_pred)\n",
        "mse = mean_squared_error(y_test, y_pred)\n",
        "rmse = mean_squared_error(y_test, y_pred, squared=False)\n",
        "r2 = r2_score(y_test, y_pred)\n",
        "\n",
        "print(f\"MAE:  {mae:.3f}\")\n",
        "print(f\"MSE:  {mse:.3f}\")\n",
        "print(f\"RMSE: {rmse:.3f}\")\n",
        "print(f\"R^2:  {r2:.3f}\")\n"
      ]
    },
    {
      "cell_type": "markdown",
      "id": "c2800867",
      "metadata": {
        "id": "c2800867"
      },
      "source": [
        "\n",
        "### 📝 TODO\n",
        "- Remove one weak feature from `numeric_cols` and see how metrics change.\n",
        "- Add a different feature and compare.\n"
      ]
    },
    {
      "cell_type": "markdown",
      "id": "944fe2a1",
      "metadata": {
        "id": "944fe2a1"
      },
      "source": [
        "## 7) Diagnostic Plots (Residuals)"
      ]
    },
    {
      "cell_type": "code",
      "execution_count": null,
      "id": "0bfe20c7",
      "metadata": {
        "id": "0bfe20c7"
      },
      "outputs": [],
      "source": [
        "\n",
        "# Reuse y_test and y_pred from multi-variable model\n",
        "residuals = y_test - y_pred\n",
        "\n",
        "# Predicted vs Actual\n",
        "plt.figure()\n",
        "plt.scatter(y_test, y_pred)\n",
        "plt.xlabel(\"Actual\"); plt.ylabel(\"Predicted\")\n",
        "plt.title(\"Predicted vs Actual (Test)\")\n",
        "plt.show()\n",
        "\n",
        "# Residuals vs Predicted\n",
        "plt.figure()\n",
        "plt.scatter(y_pred, residuals)\n",
        "plt.axhline(0, linestyle='--')\n",
        "plt.xlabel(\"Predicted\"); plt.ylabel(\"Residuals\")\n",
        "plt.title(\"Residuals vs Predicted\")\n",
        "plt.show()\n",
        "\n",
        "# Histogram of residuals\n",
        "plt.figure()\n",
        "pd.Series(residuals).plot(kind='hist', bins=30, title=\"Histogram of Residuals\")\n",
        "plt.xlabel(\"Residual\"); plt.ylabel(\"Frequency\")\n",
        "plt.show()\n"
      ]
    },
    {
      "cell_type": "markdown",
      "id": "2d515f1e",
      "metadata": {
        "id": "2d515f1e"
      },
      "source": [
        "\n",
        "### 📝 TODO\n",
        "- Do residuals look roughly centered around 0 and evenly spread?\n",
        "- If not, which assumption might be violated?\n"
      ]
    },
    {
      "cell_type": "markdown",
      "id": "05fbe0a3",
      "metadata": {
        "id": "05fbe0a3"
      },
      "source": [
        "## 8) Polynomial Features + Grid Search for Best Degree"
      ]
    },
    {
      "cell_type": "markdown",
      "id": "a9418dd4",
      "metadata": {
        "id": "a9418dd4"
      },
      "source": [
        "\n",
        "Even though it's called \"polynomial regression\", it's still **linear regression** applied to **polynomially-expanded features**.\n",
        "We'll try degrees **1 to 5** on a **single predictor** and pick the degree with the best cross-validated **R²**.\n"
      ]
    },
    {
      "cell_type": "code",
      "execution_count": null,
      "id": "5d68dfb0",
      "metadata": {
        "id": "5d68dfb0"
      },
      "outputs": [],
      "source": [
        "\n",
        "# Choose a single predictor again (same FEATURE_X as before by default)\n",
        "FEATURE_X = FEATURE_X  # keep same, or set to something else like 'horsepower'\n",
        "\n",
        "poly_data = df[[FEATURE_X, TARGET]].dropna().copy()\n",
        "X = poly_data[[FEATURE_X]].values\n",
        "y = poly_data[TARGET].values\n",
        "\n",
        "pipe = Pipeline([\n",
        "    (\"poly\", PolynomialFeatures(include_bias=False)),\n",
        "    (\"lr\", LinearRegression())\n",
        "])\n",
        "\n",
        "param_grid = {\n",
        "    \"poly__degree\": [1, 2, 3, 4, 5],\n",
        "    \"lr__fit_intercept\": [True, False]\n",
        "}\n",
        "\n",
        "grid = GridSearchCV(pipe, param_grid, cv=5, scoring=\"r2\", n_jobs=-1)\n",
        "grid.fit(X, y)\n",
        "\n",
        "print(\"Best params:\", grid.best_params_)\n",
        "print(\"Best CV R^2:\", grid.best_score_)\n",
        "\n",
        "best_model = grid.best_estimator_\n",
        "\n",
        "# Plot best curve\n",
        "x_line = np.linspace(X.min(), X.max(), 200).reshape(-1,1)\n",
        "y_line = best_model.predict(x_line)\n",
        "\n",
        "plt.figure()\n",
        "plt.scatter(X, y, s=12)\n",
        "plt.plot(x_line, y_line)\n",
        "plt.xlabel(FEATURE_X); plt.ylabel(TARGET)\n",
        "plt.title(\"Best Polynomial Fit (via Grid Search)\")\n",
        "plt.show()\n"
      ]
    },
    {
      "cell_type": "markdown",
      "id": "a21b23f2",
      "metadata": {
        "id": "a21b23f2"
      },
      "source": [
        "\n",
        "### 📝 TODO\n",
        "- Change the degree range (e.g., 1–8) and re-run. Does performance keep improving?\n",
        "- Try a different `FEATURE_X`.\n"
      ]
    },
    {
      "cell_type": "markdown",
      "id": "82a5cd04",
      "metadata": {
        "id": "82a5cd04"
      },
      "source": [
        "## 9) Interpreting Coefficients (Multi-Variable Model)"
      ]
    },
    {
      "cell_type": "code",
      "execution_count": null,
      "id": "9d60c8aa",
      "metadata": {
        "id": "9d60c8aa"
      },
      "outputs": [],
      "source": [
        "\n",
        "# Show top coefficients by magnitude (multi-variable linear model)\n",
        "coef = lin.coef_\n",
        "coef_df = pd.DataFrame({\"feature\": numeric_cols, \"coefficient\": coef})\n",
        "coef_df[\"abs_coef\"] = coef_df[\"coefficient\"].abs()\n",
        "coef_df.sort_values(\"abs_coef\", ascending=False, inplace=True)\n",
        "coef_df.drop(columns=[\"abs_coef\"], inplace=True)\n",
        "coef_df.head(10)\n"
      ]
    },
    {
      "cell_type": "markdown",
      "id": "5069016a",
      "metadata": {
        "id": "5069016a"
      },
      "source": [
        "\n",
        "### 📝 TODO\n",
        "- Which features have the largest (absolute) coefficients?\n",
        "- Do the signs (+/-) match your intuition?\n"
      ]
    },
    {
      "cell_type": "markdown",
      "id": "6a4273bb",
      "metadata": {
        "id": "6a4273bb"
      },
      "source": [
        "\n",
        "## 10) Linear Regression — Quick Assumptions Checklist\n",
        "- **Linearity**: Relationship between predictors and target is roughly linear.\n",
        "- **Independence**: Errors are independent.\n",
        "- **Homoscedasticity**: Residuals have constant variance.\n",
        "- **Normality (for inference)**: Residuals are roughly normal.\n",
        "- **No perfect multicollinearity**: Avoid duplicate/linearly dependent features.\n"
      ]
    },
    {
      "cell_type": "markdown",
      "id": "414d56ff",
      "metadata": {
        "id": "414d56ff"
      },
      "source": [
        "\n",
        "## 11) Assumption Checks — Code You Can Run\n",
        "We'll check the classic linear regression assumptions using simple, readable code:\n",
        "- **Linearity & Homoscedasticity:** residuals vs predicted plot\n",
        "- **Normality of residuals:** Q–Q plot and Shapiro–Wilk test\n",
        "- **Independence of errors:** Durbin–Watson statistic\n",
        "- **Multicollinearity:** Variance Inflation Factor (VIF)\n"
      ]
    },
    {
      "cell_type": "code",
      "execution_count": null,
      "id": "6d819a91",
      "metadata": {
        "id": "6d819a91"
      },
      "outputs": [],
      "source": [
        "\n",
        "#@title Install test libs (statsmodels) if needed\n",
        "import sys, subprocess\n",
        "def pip_install(pkg):\n",
        "    subprocess.run([sys.executable, \"-m\", \"pip\", \"install\", \"-q\", pkg], check=False)\n",
        "\n",
        "try:\n",
        "    import statsmodels\n",
        "except:\n",
        "    pip_install(\"statsmodels>=0.14\")\n",
        "    import statsmodels\n",
        "\n",
        "from scipy import stats\n",
        "import numpy as np\n",
        "import pandas as pd\n",
        "import matplotlib.pyplot as plt\n",
        "from statsmodels.stats.stattools import durbin_watson\n",
        "from statsmodels.stats.diagnostic import het_breuschpagan\n",
        "import statsmodels.api as sm\n",
        "from statsmodels.stats.outliers_influence import variance_inflation_factor\n",
        "\n",
        "# NOTE: This cell assumes you've already run the multi-variable model section\n",
        "# so that y_test, y_pred, X_train, X_test, numeric_cols, TARGET are defined.\n",
        "# If not, re-run sections 6 and 7.\n"
      ]
    },
    {
      "cell_type": "code",
      "execution_count": null,
      "id": "0f55aae1",
      "metadata": {
        "id": "0f55aae1"
      },
      "outputs": [],
      "source": [
        "\n",
        "# 11.1 Linearity & Homoscedasticity (visual)\n",
        "# Residuals vs Predicted should look like a random cloud around 0 (no pattern / fanning)\n",
        "\n",
        "residuals = y_test - y_pred\n",
        "\n",
        "plt.figure()\n",
        "plt.scatter(y_pred, residuals, s=14)\n",
        "plt.axhline(0, linestyle=\"--\")\n",
        "plt.xlabel(\"Predicted\")\n",
        "plt.ylabel(\"Residuals\")\n",
        "plt.title(\"Residuals vs Predicted\")\n",
        "plt.show()\n",
        "\n",
        "print(\"🧐 Look for: no obvious curve/pattern; spread roughly constant across x-axis.\")\n"
      ]
    },
    {
      "cell_type": "code",
      "execution_count": null,
      "id": "59db51f7",
      "metadata": {
        "id": "59db51f7"
      },
      "outputs": [],
      "source": [
        "\n",
        "# 11.2 Normality of residuals: Q–Q plot + Shapiro–Wilk test\n",
        "plt.figure()\n",
        "stats.probplot(residuals, dist=\"norm\", plot=plt)\n",
        "plt.title(\"Q–Q Plot of Residuals\")\n",
        "plt.show()\n",
        "\n",
        "sh_stat, sh_p = stats.shapiro(residuals)\n",
        "print(f\"Shapiro–Wilk: statistic={sh_stat:.3f}, p-value={sh_p:.3g}\")\n",
        "print(\"Rule of thumb: p-value > 0.05 suggests residuals are close to normal (for inference).\")\n"
      ]
    },
    {
      "cell_type": "code",
      "execution_count": null,
      "id": "ff584073",
      "metadata": {
        "id": "ff584073"
      },
      "outputs": [],
      "source": [
        "\n",
        "# 11.3 Independence of errors: Durbin–Watson (≈2 is good; <1 or >3 indicates strong autocorrelation)\n",
        "dw = durbin_watson(residuals)\n",
        "print(f\"Durbin–Watson statistic = {dw:.3f}\")\n",
        "print(\"Guideline: ~2 means uncorrelated; much below 2 ⇒ positive autocorrelation; much above 2 ⇒ negative autocorrelation.\")\n"
      ]
    },
    {
      "cell_type": "code",
      "execution_count": null,
      "id": "06e46ecc",
      "metadata": {
        "id": "06e46ecc"
      },
      "outputs": [],
      "source": [
        "\n",
        "# 11.4 Homoscedasticity formal test: Breusch–Pagan\n",
        "# Use original predictors (X_test). Add constant for the test design matrix.\n",
        "\n",
        "X_bp = sm.add_constant(pd.DataFrame(X_test, columns=numeric_cols))\n",
        "bp_stat, bp_p, _, _ = het_breuschpagan(residuals, X_bp)\n",
        "print(f\"Breusch–Pagan: stat={bp_stat:.3f}, p-value={bp_p:.3g}\")\n",
        "print(\"Rule of thumb: p-value > 0.05 ⇒ no strong evidence of heteroscedasticity.\")\n"
      ]
    },
    {
      "cell_type": "code",
      "execution_count": null,
      "id": "f0ef9de2",
      "metadata": {
        "id": "f0ef9de2"
      },
      "outputs": [],
      "source": [
        "\n",
        "# 11.5 Multicollinearity: VIF (on training predictors)\n",
        "X_vif = pd.DataFrame(X_train, columns=numeric_cols).dropna()\n",
        "X_vif_const = sm.add_constant(X_vif, has_constant='add')\n",
        "\n",
        "vif_vals = []\n",
        "for i, col in enumerate(X_vif_const.columns):\n",
        "    if col == 'const':\n",
        "        continue\n",
        "    vif_vals.append({\"feature\": col, \"VIF\": variance_inflation_factor(X_vif_const.values, i+1)})\n",
        "\n",
        "vif_df = pd.DataFrame(vif_vals).sort_values(\"VIF\", ascending=False)\n",
        "vif_df\n"
      ]
    },
    {
      "cell_type": "markdown",
      "id": "901800b4",
      "metadata": {
        "id": "901800b4"
      },
      "source": [
        "\n",
        "### 📝 TODO\n",
        "- If **Breusch–Pagan p < 0.05**, try transforming a skewed feature (e.g., `np.log1p(x)`) and re-fit.  \n",
        "- If **Shapiro p < 0.05**, consider outliers or feature transforms.  \n",
        "- If **VIF > 10** for a feature, try removing it or combining highly correlated features.  \n",
        "- If **Durbin–Watson** is far from 2 (time-indexed data), try adding lag features or using time-series models.\n"
      ]
    }
  ],
  "metadata": {
    "colab": {
      "provenance": []
    },
    "language_info": {
      "name": "python"
    },
    "kernelspec": {
      "name": "python3",
      "display_name": "Python 3"
    }
  },
  "nbformat": 4,
  "nbformat_minor": 5
}